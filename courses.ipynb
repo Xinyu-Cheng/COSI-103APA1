{
 "cells": [
  {
   "cell_type": "markdown",
   "metadata": {},
   "source": [
    "# Courses Demo\n",
    "This Jupyter notebook is for exploring the data set courses20-21.json\n",
    "which consists of all Brandeis courses in the 20-21 academic year (Fall20, Spr21, Sum21) \n",
    "which had at least 1 student enrolled.\n",
    "\n",
    "First we need to read the json file into a list of Python dictionaries"
   ]
  },
  {
   "cell_type": "code",
   "execution_count": null,
   "metadata": {},
   "outputs": [],
   "source": [
    "import json"
   ]
  },
  {
   "cell_type": "code",
   "execution_count": null,
   "metadata": {},
   "outputs": [],
   "source": [
    "with open(\"courses20-21.json\",\"r\",encoding='utf-8') as jsonfile:\n",
    "    courses = json.load(jsonfile)\n"
   ]
  },
  {
   "cell_type": "markdown",
   "metadata": {},
   "source": [
    "## Structure of a course\n",
    "Next we look at the fields of each course dictionary and their values"
   ]
  },
  {
   "cell_type": "markdown",
   "metadata": {},
   "source": [
    "print('there are',len(courses),'courses in the dataset')\n",
    "print('here is the data for course 1246')\n",
    "courses[1246]"
   ]
  },
  {
   "cell_type": "markdown",
   "metadata": {},
   "source": [
    "## Cleaning the data\n",
    "If we want to sort courses by instructor or by code, we need to replace the lists with tuples (which are immutable lists)"
   ]
  },
  {
   "cell_type": "code",
   "execution_count": null,
   "metadata": {},
   "outputs": [],
   "source": [
    "for course in courses:\n",
    "        course['instructor'] = tuple(course['instructor'])\n",
    "        course['coinstructors'] = tuple([tuple(f) for f in course['coinstructors']])\n",
    "        course['code']= tuple(course['code'])"
   ]
  },
  {
   "cell_type": "code",
   "execution_count": null,
   "metadata": {},
   "outputs": [],
   "source": [
    "print('notice that the instructor and code are tuples now')\n",
    "courses[1246]"
   ]
  },
  {
   "cell_type": "markdown",
   "metadata": {},
   "source": [
    "# Exploring the data set\n",
    "Now we will show how to use straight python to explore the data set and answer some interesting questions. Next week we will start learning Pandas/Numpy which are packages that make it easier to explore large dataset efficiently.\n",
    "\n",
    "Here are some questions we can try to asnwer:\n",
    "* what are all of the subjects of courses (e.g. COSI, MATH, JAPN, PHIL, ...)\n",
    "* which terms are represented?\n",
    "* how many instructors taught at Brandeis last year?\n",
    "* what were the five largest course sections?\n",
    "* what were the five largest courses (where we combine sections)?\n",
    "* which are the five largest subjects measured by number of courses offered?\n",
    "* which are the five largest courses measured by number of students taught?\n",
    "* which course had the most sections taught in 20-21?\n",
    "* who are the top five faculty in terms of number of students taught?\n",
    "* etc."
   ]
  },
  {
   "cell_type": "code",
   "execution_count": null,
   "metadata": {},
   "outputs": [],
   "source": [
    "[course for course in courses if 'Java' in course['name']]"
   ]
  },
  {
   "cell_type": "markdown",
   "metadata": {},
   "source": [
    "Weidong 5.a:\n",
    "* how many faculty taught COSI courses last year?"
   ]
  },
  {
   "cell_type": "code",
   "execution_count": null,
   "metadata": {},
   "outputs": [],
   "source": [
    "len({c['instructor'] for c in courses if c['subject']=='COSI'})"
   ]
  },
  {
   "cell_type": "markdown",
   "metadata": {},
   "source": [
    "Weidong 5.b\n",
    "* what is the total number of students taking COSI courses last year?"
   ]
  },
  {
   "cell_type": "code",
   "execution_count": null,
   "metadata": {},
   "outputs": [],
   "source": [
    "sum([c['enrolled'] for c in courses if c['subject']=='COSI'])"
   ]
  },
  {
   "cell_type": "markdown",
   "metadata": {},
   "source": [
    "Jingqian 5.c\n",
    "* what was the median size of a COSI course last year (counting only those courses with at least 10 students)"
   ]
  },
  {
   "cell_type": "code",
   "execution_count": null,
   "metadata": {},
   "outputs": [],
   "source": [
    "course_size = [course for course in courses if course['enrolled'] >= 10 and course['subject'] == 'COSI']\n",
    "course_size_sorted = sorted(course_size, key = lambda x : x['enrolled'])\n",
    "length = len(course_size_sorted)\n",
    "if (length % 2 == 0):\n",
    "    median_size = (course_size_sorted[length//2]['enrolled'] + course_size_sorted[length//2 - 1]['enrolled'])/2\n",
    "else:\n",
    "    median_size = course_size_sorted[length//2]['enrolled'] \n",
    "int(median_size)"
   ]
  },
  {
   "cell_type": "markdown",
   "metadata": {},
   "source": [
    "Jingqian 5.d\n",
    "* create a list of tuples (E,S) where S is a subject and E is the number of students enrolled in courses in that subject, sort it and print the top 10. This shows the top 10 subjects in terms of number of students taught."
   ]
  },
  {
   "cell_type": "code",
   "execution_count": null,
   "metadata": {},
   "outputs": [],
   "source": [
    "subjects = {course['subject'] for course in courses}\n",
    "tuples = []\n",
    "for subject in subjects:\n",
    "    number = 0\n",
    "    for course in courses:\n",
    "        if course['subject'] == subject:\n",
    "            number += course['enrolled']\n",
    "    tuples.append((subject, number))\n",
    "tuples_sorted = sorted(tuples, key = lambda x : -x[1])\n",
    "tuples_sorted[:10]"
   ]
  },
  {
   "cell_type": "markdown",
   "metadata": {},
   "source": [
    "Katherine 5.g\n",
    "* list the top 20 faculty in terms of number of students they taught"
   ]
  },
  {
   "cell_type": "code",
   "execution_count": null,
   "metadata": {},
   "outputs": [],
   "source": [
    "all_instructors = {course['instructor']: 0 for course in courses}\n",
    "for course in courses:\n",
    "    all_instructors[course['instructor']] = all_instructors[course['instructor']] + int(course['enrolled'])\n",
    "by_student_size = [instructors for instructors, enrolled in sorted(all_instructors.items(), key=lambda item: -item[1])]\n",
    "top_twenty = by_student_size[:20]\n",
    "print(top_twenty)\n"
   ]
  },
  {
   "cell_type": "markdown",
   "metadata": {},
   "source": [
    "Katherine 5.h\n",
    "* list the top 20 courses in terms of number of students taking that course"
   ]
  },
  {
   "cell_type": "code",
   "execution_count": null,
   "metadata": {},
   "outputs": [],
   "source": [
    "all_courses = {str(course['subject'] + course['coursenum']): 0 for course in courses}\n",
    "for course in courses:\n",
    "    all_courses[str(course['subject'] + course['coursenum'])] = all_courses[str(course['subject'] + course['coursenum'])] + int(course['enrolled'])\n",
    "by_student_size = [course for course, enrolled in sorted(all_courses.items(), key=lambda item: -item[1])]\n",
    "top_twenty = by_student_size[:20]\n",
    "print(top_twenty)"
   ]
  },
  {
   "cell_type": "markdown",
   "metadata": {},
   "source": [
    "Katherine 5.i\n",
    "* number of faculty who have classes on Fridays"
   ]
  },
  {
   "cell_type": "code",
   "execution_count": null,
   "metadata": {},
   "outputs": [],
   "source": [
    "len({course['instructor'] for course in courses if (len(course['times']) == 1 and 'tu' in course['times'][0]['days'])})"
   ]
  },
  {
   "cell_type": "markdown",
   "metadata": {},
   "source": [
    "Jingqian 5.i\n",
    "* Find the top 10 courses most difficult to enroll (with most waiting students)"
   ]
  },
  {
   "cell_type": "code",
   "execution_count": null,
   "metadata": {},
   "outputs": [],
   "source": [
    "course_with_waiting = [course for course in courses if course['waiting'] > 0]\n",
    "course_with_waiting_sorted = sorted(course_with_waiting, key = lambda x : -x['waiting'])\n",
    "course_with_waiting_sorted[:10]"
   ]
  },
  {
   "cell_type": "markdown",
   "metadata": {},
   "source": [
    "Weidong 5.i\n",
    "* List all courses which contain keyword 'java' in their description"
   ]
  },
  {
   "cell_type": "code",
   "execution_count": null,
   "metadata": {},
   "outputs": [],
   "source": [
    "[c for c in courses if 'Java' in c['name']]"
   ]
  },
  {
   "cell_type": "markdown",
   "metadata": {},
   "source": [
    "Weidong 5.i\n",
    "* List all the COSI course have more than 10students and it's instructor's first name,and student number,sorted by student number"
   ]
  },
  {
   "cell_type": "code",
   "execution_count": null,
   "metadata": {},
   "outputs": [],
   "source": [
    " list = {(c['name'],c['instructor'][0],c['enrolled']) for c in courses if c['subject']=='COSI' and c['enrolled']>=10}\n",
    " list_sort = sorted(list, key = lambda course : -course[2])\n",
    " print(list_sort)"
   ]
  },
  {
   "cell_type": "markdown",
   "metadata": {},
   "source": [
    "Weidong 5.i\n",
    "* top10 popular instructor in computer science department in terms of enrolled student number"
   ]
  },
  {
   "cell_type": "code",
   "execution_count": null,
   "metadata": {},
   "outputs": [],
   "source": [
    "instructor = {c['instructor']:0 for c in courses if c['subject']=='COSI'}\n",
    "for c in courses:\n",
    "    if(c['subject']=='COSI'):\n",
    "        instructor[c['instructor']] = instructor[c['instructor']] + c['enrolled']\n",
    "\n",
    "instructor_sorted = sorted(instructor.items(),key = lambda x:-x[1])\n",
    "print(instructor_sorted[:10])"
   ]
  },
  {
   "cell_type": "markdown",
   "metadata": {},
   "source": []
  }
 ],
 "metadata": {
  "kernelspec": {
   "display_name": "Python 3 (ipykernel)",
   "language": "python",
   "name": "python3"
  },
  "language_info": {
   "codemirror_mode": {
    "name": "ipython",
    "version": 3
   },
   "file_extension": ".py",
   "mimetype": "text/x-python",
   "name": "python",
   "nbconvert_exporter": "python",
   "pygments_lexer": "ipython3",
   "version": "3.9.5"
  }
 },
 "nbformat": 4,
 "nbformat_minor": 4
}
