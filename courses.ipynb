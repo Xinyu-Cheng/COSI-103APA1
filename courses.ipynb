{
 "cells": [
  {
   "cell_type": "markdown",
   "metadata": {},
   "source": [
    "# Courses Demo\n",
    "This Jupyter notebook is for exploring the data set courses20-21.json\n",
    "which consists of all Brandeis courses in the 20-21 academic year (Fall20, Spr21, Sum21) \n",
    "which had at least 1 student enrolled.\n",
    "\n",
    "First we need to read the json file into a list of Python dictionaries"
   ]
  },
  {
   "cell_type": "code",
   "execution_count": 1,
   "metadata": {},
   "outputs": [],
   "source": [
    "import json"
   ]
  },
  {
   "cell_type": "code",
   "execution_count": 2,
   "metadata": {},
   "outputs": [],
   "source": [
    "with open(\"courses20-21.json\",\"r\",encoding='utf-8') as jsonfile:\n",
    "    courses = json.load(jsonfile)\n"
   ]
  },
  {
   "cell_type": "markdown",
   "metadata": {
    "tags": []
   },
   "source": [
    "## Structure of a course\n",
    "Next we look at the fields of each course dictionary and their values"
   ]
  },
  {
   "cell_type": "markdown",
   "metadata": {},
   "source": [
    "print('there are',len(courses),'courses in the dataset')\n",
    "print('here is the data for course 1246')\n",
    "courses[1246]"
   ]
  },
  {
   "cell_type": "markdown",
   "metadata": {},
   "source": [
    "## Cleaning the data\n",
    "If we want to sort courses by instructor or by code, we need to replace the lists with tuples (which are immutable lists)"
   ]
  },
  {
   "cell_type": "code",
   "execution_count": 3,
   "metadata": {},
   "outputs": [],
   "source": [
    "for course in courses:\n",
    "        course['instructor'] = tuple(course['instructor'])\n",
    "        course['coinstructors'] = tuple([tuple(f) for f in course['coinstructors']])\n",
    "        course['code']= tuple(course['code'])"
   ]
  },
  {
   "cell_type": "code",
   "execution_count": 4,
   "metadata": {},
   "outputs": [
    {
     "name": "stdout",
     "output_type": "stream",
     "text": [
      "notice that the instructor and code are tuples now\n"
     ]
    },
    {
     "data": {
      "text/plain": [
       "{'limit': 28,\n",
       " 'times': [{'start': 1080, 'end': 1170, 'days': ['w', 'm']}],\n",
       " 'enrolled': 4,\n",
       " 'details': 'Instruction for this course will be offered remotely. Meeting times for this course are listed in the schedule of classes (in ET).',\n",
       " 'type': 'section',\n",
       " 'status_text': 'Open',\n",
       " 'section': '1',\n",
       " 'waiting': 0,\n",
       " 'instructor': ('An', 'Huang', 'anhuang@brandeis.edu'),\n",
       " 'coinstructors': (),\n",
       " 'code': ('MATH', '223A'),\n",
       " 'subject': 'MATH',\n",
       " 'coursenum': '223A',\n",
       " 'name': 'Lie Algebras: Representation Theory',\n",
       " 'independent_study': False,\n",
       " 'term': '1203',\n",
       " 'description': \"Theorems of Engel and Lie. Semisimple Lie algebras, Cartan's criterion. Universal enveloping algebras, PBW theorem, Serre's construction. Representation theory. Other topics as time permits. Usually offered every second year.\\nAn Huang\"}"
      ]
     },
     "execution_count": 4,
     "metadata": {},
     "output_type": "execute_result"
    }
   ],
   "source": [
    "print('notice that the instructor and code are tuples now')\n",
    "courses[1246]"
   ]
  },
  {
   "cell_type": "markdown",
   "metadata": {},
   "source": [
    "# Exploring the data set\n",
    "Now we will show how to use straight python to explore the data set and answer some interesting questions. Next week we will start learning Pandas/Numpy which are packages that make it easier to explore large dataset efficiently.\n",
    "\n",
    "Here are some questions we can try to asnwer:\n",
    "* what are all of the subjects of courses (e.g. COSI, MATH, JAPN, PHIL, ...)\n",
    "* which terms are represented?\n",
    "* how many instructors taught at Brandeis last year?\n",
    "* what were the five largest course sections?\n",
    "* what were the five largest courses (where we combine sections)?\n",
    "* which are the five largest subjects measured by number of courses offered?\n",
    "* which are the five largest courses measured by number of students taught?\n",
    "* which course had the most sections taught in 20-21?\n",
    "* who are the top five faculty in terms of number of students taught?\n",
    "* etc."
   ]
  },
  {
   "cell_type": "code",
   "execution_count": 5,
   "metadata": {},
   "outputs": [
    {
     "data": {
      "text/plain": [
       "[{'limit': 80,\n",
       "  'times': [{'start': 600, 'days': ['m', 'w'], 'end': 690},\n",
       "   {'start': 630, 'end': 720, 'type': 'Recitiation', 'days': ['f']}],\n",
       "  'enrolled': 43,\n",
       "  'details': 'See Course Catalog for prerequisites.\\nOpen to graduate students in the post-baccalaureate computer science program.\\nInstruction for this course will be offered remotely. Meeting times for this course are listed in the schedule of classes (in ET).',\n",
       "  'type': 'section',\n",
       "  'status_text': 'Open',\n",
       "  'section': '1',\n",
       "  'waiting': 0,\n",
       "  'instructor': ('Antonella', 'DiLillo', 'dilant@brandeis.edu'),\n",
       "  'coinstructors': (),\n",
       "  'code': ('COSI', '12B'),\n",
       "  'subject': 'COSI',\n",
       "  'coursenum': '12B',\n",
       "  'name': 'Advanced Programming Techniques in Java',\n",
       "  'independent_study': False,\n",
       "  'term': '1211',\n",
       "  'description': 'Prerequisite: COSI 10a or successful completion of the COSI online placement exam.\\n\\nStudies advanced programming concepts and techniques utilizing the Java programming language. The course covers software engineering concepts, object-oriented design, design patterns and professional best practices. This is a required foundation course that will prepare you for more advanced courses, new programming languages, and frameworks. Usually offered every year.\\nStaff'},\n",
       " {'limit': 80,\n",
       "  'times': [{'days': ['th', 'tu'], 'end': 690, 'start': 600},\n",
       "   {'end': 720, 'type': 'Recitation', 'days': ['f'], 'start': 630}],\n",
       "  'enrolled': 66,\n",
       "  'details': 'See Course Catalog for prerequisites.\\nOpen to graduate students in the post-baccalaureate computer science program.\\nInstruction for this course will be offered remotely. Meeting times for this course are listed in the schedule of classes (in ET).',\n",
       "  'type': 'section',\n",
       "  'status_text': 'Open',\n",
       "  'section': '2',\n",
       "  'waiting': 0,\n",
       "  'instructor': ('Iraklis', 'Tsekourakis', 'tsekourakis@brandeis.edu'),\n",
       "  'coinstructors': (),\n",
       "  'code': ('COSI', '12B'),\n",
       "  'subject': 'COSI',\n",
       "  'coursenum': '12B',\n",
       "  'name': 'Advanced Programming Techniques in Java',\n",
       "  'independent_study': False,\n",
       "  'term': '1211',\n",
       "  'description': 'Prerequisite: COSI 10a or successful completion of the COSI online placement exam.\\n\\nStudies advanced programming concepts and techniques utilizing the Java programming language. The course covers software engineering concepts, object-oriented design, design patterns and professional best practices. This is a required foundation course that will prepare you for more advanced courses, new programming languages, and frameworks. Usually offered every year.\\nStaff'},\n",
       " {'limit': 150,\n",
       "  'times': [{'days': ['m', 'w'], 'end': 690, 'start': 600},\n",
       "   {'start': 630, 'days': ['f'], 'type': 'obligatory recitation', 'end': 720}],\n",
       "  'enrolled': 96,\n",
       "  'details': 'Prerequisite: COSI 10a or successful completion of the COSI online placement exam.\\nInstruction for this course will be offered remotely. Meeting times for this course are listed in the schedule of classes (in ET).',\n",
       "  'type': 'section',\n",
       "  'status_text': 'Open',\n",
       "  'section': '1',\n",
       "  'waiting': 0,\n",
       "  'instructor': ('Antonella', 'DiLillo', 'dilant@brandeis.edu'),\n",
       "  'coinstructors': (),\n",
       "  'code': ('COSI', '12B'),\n",
       "  'subject': 'COSI',\n",
       "  'coursenum': '12B',\n",
       "  'name': 'Advanced Programming Techniques in Java',\n",
       "  'independent_study': False,\n",
       "  'term': '1203',\n",
       "  'description': 'Prerequisite: COSI 10a or successful completion of the COSI online placement exam.\\n\\nStudies advanced programming concepts and techniques utilizing the Java programming language. The course covers software engineering concepts, object-oriented design, design patterns and professional best practices. This is a required foundation course that will prepare you for more advanced courses, new programming languages, and frameworks. Usually offered every year.\\nStaff'},\n",
       " {'limit': 20,\n",
       "  'times': [],\n",
       "  'enrolled': 7,\n",
       "  'details': '',\n",
       "  'type': 'section',\n",
       "  'status_text': 'Open',\n",
       "  'section': '1DL',\n",
       "  'waiting': 0,\n",
       "  'instructor': ('Vitaly', 'Yurik', 'vyurik@brandeis.edu'),\n",
       "  'coinstructors': (),\n",
       "  'code': ('RSEG', '105'),\n",
       "  'subject': 'RSEG',\n",
       "  'coursenum': '105',\n",
       "  'name': 'Expert Software Development in Java',\n",
       "  'independent_study': False,\n",
       "  'term': '1203',\n",
       "  'description': 'This course examines Java technologies a software engineer can use to meet the challenges of software development for large-scale development projects. Large-scale systems typically support a complex system architecture, incorporate a significant amount of business logic, interoperate with a variety of back-end and partner systems, and access various data stores. This course will focus on the following major technologies that meet these challenges: Spring Framework and RESTful Web Services.'},\n",
       " {'limit': 20,\n",
       "  'times': [],\n",
       "  'enrolled': 6,\n",
       "  'details': '',\n",
       "  'type': 'section',\n",
       "  'status_text': 'Open',\n",
       "  'section': '1DL',\n",
       "  'waiting': 0,\n",
       "  'instructor': ('Vitaly', 'Yurik', 'vyurik@brandeis.edu'),\n",
       "  'coinstructors': (),\n",
       "  'code': ('RSEG', '102'),\n",
       "  'subject': 'RSEG',\n",
       "  'coursenum': '102',\n",
       "  'name': 'Software Development in Java',\n",
       "  'independent_study': False,\n",
       "  'term': '1211',\n",
       "  'description': 'This course explores advanced topics of Java programming language, including object- oriented programming concepts; exceptions; generic programming and annotations; collections; Java foundations classes (JFC); delegation event model; layout managers; swing components including panels, menus, toolbars, and text components; multi-threading; streams and input/output programming; networking; and Java database connectivity (JDBC).'},\n",
       " {'limit': 20,\n",
       "  'times': [],\n",
       "  'enrolled': 3,\n",
       "  'details': '',\n",
       "  'type': 'section',\n",
       "  'status_text': 'Open',\n",
       "  'section': '1DL',\n",
       "  'waiting': 0,\n",
       "  'instructor': ('Ken', 'Brumer', 'kenbrumer@brandeis.edu'),\n",
       "  'coinstructors': (),\n",
       "  'code': ('RSEG', '155'),\n",
       "  'subject': 'RSEG',\n",
       "  'coursenum': '155',\n",
       "  'name': 'Functional Programming with Java and Scala',\n",
       "  'independent_study': False,\n",
       "  'term': '1211',\n",
       "  'description': 'This course provides hands-on experience with functional programming—a style of programming that has seen increasing popularity due to its ability to work with complex concepts through highly adaptable models. Functional programming supports higher-level abstractions, customizable data structures, as well as concurrency and parallelism inherent in cloud computing and big data analytics. Students will use functional extensions of Java and a popular functional programming language Scala to apply functional programming approach to a variety of design, modeling and implementation challenges.'},\n",
       " {'limit': None,\n",
       "  'times': [{'start': 540, 'end': 660, 'days': ['m', 'tu', 'th', 'w']}],\n",
       "  'enrolled': 20,\n",
       "  'details': 'See Course Catalog for prerequisites.',\n",
       "  'type': 'section',\n",
       "  'status_text': 'Open',\n",
       "  'section': '1',\n",
       "  'waiting': 0,\n",
       "  'instructor': ('Michael', 'Golitsyn', 'golitsyn@brandeis.edu'),\n",
       "  'coinstructors': (),\n",
       "  'code': ('COSI', '12B'),\n",
       "  'subject': 'COSI',\n",
       "  'coursenum': '12B',\n",
       "  'name': 'Advanced Programming Techniques in Java',\n",
       "  'independent_study': False,\n",
       "  'term': '1212',\n",
       "  'description': 'Prerequisite: COSI 10a or successful completion of the COSI online placement exam.\\n\\nStudies advanced programming concepts and techniques utilizing the Java programming language. The course covers software engineering concepts, object-oriented design, design patterns and professional best practices. This is a required foundation course that will prepare you for more advanced courses, new programming languages, and frameworks. Usually offered every year.\\nStaff'}]"
      ]
     },
     "execution_count": 5,
     "metadata": {},
     "output_type": "execute_result"
    }
   ],
   "source": [
    "[course for course in courses if 'Java' in course['name']]"
   ]
  },
  {
   "cell_type": "markdown",
   "metadata": {},
   "source": [
    "Weidong 5.a:\n",
    "* how many faculty taught COSI courses last year?"
   ]
  },
  {
   "cell_type": "code",
   "execution_count": 6,
   "metadata": {},
   "outputs": [
    {
     "data": {
      "text/plain": [
       "27"
      ]
     },
     "execution_count": 6,
     "metadata": {},
     "output_type": "execute_result"
    }
   ],
   "source": [
    "len({c['instructor'] for c in courses if c['subject']=='COSI'})"
   ]
  },
  {
   "cell_type": "markdown",
   "metadata": {},
   "source": [
    "Weidong 5.b\n",
    "* what is the total number of students taking COSI courses last year?"
   ]
  },
  {
   "cell_type": "code",
   "execution_count": 7,
   "metadata": {},
   "outputs": [
    {
     "data": {
      "text/plain": [
       "2223"
      ]
     },
     "execution_count": 7,
     "metadata": {},
     "output_type": "execute_result"
    }
   ],
   "source": [
    "sum([c['enrolled'] for c in courses if c['subject']=='COSI'])"
   ]
  },
  {
   "cell_type": "markdown",
   "metadata": {},
   "source": [
    "Jingqian 5.c\n",
    "* what was the median size of a COSI course last year (counting only those courses with at least 10 students)"
   ]
  },
  {
   "cell_type": "code",
   "execution_count": 8,
   "metadata": {
    "tags": []
   },
   "outputs": [
    {
     "data": {
      "text/plain": [
       "37"
      ]
     },
     "execution_count": 8,
     "metadata": {},
     "output_type": "execute_result"
    }
   ],
   "source": [
    "course_size = [course for course in courses if course['enrolled'] >= 10 and course['subject'] == 'COSI']\n",
    "course_size_sorted = sorted(course_size, key = lambda x : x['enrolled'])\n",
    "length = len(course_size_sorted)\n",
    "if (length % 2 == 0):\n",
    "    median_size = (course_size_sorted[length//2]['enrolled'] + course_size_sorted[length//2 - 1]['enrolled'])/2\n",
    "else:\n",
    "    median_size = course_size_sorted[length//2]['enrolled'] \n",
    "int(median_size)"
   ]
  },
  {
   "cell_type": "markdown",
   "metadata": {},
   "source": [
    "# Head"
   ]
  },
  {
   "cell_type": "code",
   "execution_count": 21,
   "metadata": {},
   "outputs": [
    {
     "name": "stdout",
     "output_type": "stream",
     "text": [
      "abc\n"
     ]
    }
   ],
   "source": [
    "print(\"abc\")"
   ]
  },
  {
   "cell_type": "markdown",
   "metadata": {},
   "source": [
    "Jingqian 5.d\n",
    "* create a list of tuples (E,S) where S is a subject and E is the number of students enrolled in courses in that subject, sort it and print the top 10. This shows the top 10 subjects in terms of number of students taught."
   ]
  },
  {
   "cell_type": "code",
   "execution_count": 9,
   "metadata": {},
   "outputs": [
    {
     "data": {
      "text/plain": [
       "[('HS', 5318),\n",
       " ('BIOL', 3085),\n",
       " ('BUS', 2766),\n",
       " ('HWL', 2734),\n",
       " ('CHEM', 2322),\n",
       " ('ECON', 2315),\n",
       " ('COSI', 2223),\n",
       " ('MATH', 1785),\n",
       " ('PSYC', 1704),\n",
       " ('ANTH', 1144)]"
      ]
     },
     "execution_count": 9,
     "metadata": {},
     "output_type": "execute_result"
    }
   ],
   "source": [
    "subjects = {course['subject'] for course in courses}\n",
    "tuples = []\n",
    "for subject in subjects:\n",
    "    number = 0\n",
    "    for course in courses:\n",
    "        if course['subject'] == subject:\n",
    "            number += course['enrolled']\n",
    "    tuples.append((subject, number))\n",
    "tuples_sorted = sorted(tuples, key = lambda x : -x[1])\n",
    "tuples_sorted[:10]"
   ]
  },
  {
   "cell_type": "markdown",
   "metadata": {},
   "source": [
    "Katherine 5.g\n",
    "* list the top 20 faculty in terms of number of students they taught"
   ]
  },
  {
   "cell_type": "code",
   "execution_count": 10,
   "metadata": {},
   "outputs": [
    {
     "name": "stdout",
     "output_type": "stream",
     "text": [
      "[('Leah', 'Berkenwald', 'leahb@brandeis.edu'), ('Kene Nathan', 'Piasta', 'kpiasta@brandeis.edu'), ('Stephanie', 'Murray', 'murray@brandeis.edu'), ('Milos', 'Dolnik', 'dolnik@brandeis.edu'), ('Maria', 'de Boef Miara', 'mmiara@brandeis.edu'), ('Bryan', 'Ingoglia', 'ingoglia@brandeis.edu'), ('Rachel V.E.', 'Woodruff', 'woodruff@brandeis.edu'), ('Timothy J', 'Hickey', 'tjhickey@brandeis.edu'), ('Daniel', 'Breen', 'dbreen91@brandeis.edu'), ('Melissa', 'Kosinski-Collins', 'kosinski@brandeis.edu'), ('Claudia', 'Novack', 'novack@brandeis.edu'), ('Antonella', 'DiLillo', 'dilant@brandeis.edu'), ('Jon', 'Chilingerian', 'chilinge@brandeis.edu'), ('Ahmad', 'Namini', 'anamini@brandeis.edu'), ('Iraklis', 'Tsekourakis', 'tsekourakis@brandeis.edu'), ('Geoffrey', 'Clarke', 'geoffclarke@brandeis.edu'), ('Peter', 'Mistark', 'pmistark@brandeis.edu'), ('Brenda', 'Anderson', 'banders@brandeis.edu'), ('Colleen', 'Hitchcock', 'hitchcock@brandeis.edu'), ('Scott A.', 'Redenius', 'redenius@brandeis.edu')]\n"
     ]
    }
   ],
   "source": [
    "all_instructors = {course['instructor']: 0 for course in courses}\n",
    "for course in courses:\n",
    "    all_instructors[course['instructor']] = all_instructors[course['instructor']] + int(course['enrolled'])\n",
    "by_student_size = [instructors for instructors, enrolled in sorted(all_instructors.items(), key=lambda item: -item[1])]\n",
    "top_twenty = by_student_size[:20]\n",
    "print(top_twenty)\n"
   ]
  },
  {
   "cell_type": "markdown",
   "metadata": {},
   "source": [
    "Katherine 5.h\n",
    "* list the top 20 courses in terms of number of students taking that course"
   ]
  },
  {
   "cell_type": "code",
   "execution_count": 11,
   "metadata": {},
   "outputs": [
    {
     "name": "stdout",
     "output_type": "stream",
     "text": [
      "['HWL1', 'HWL1-PRE', 'BIOL14A', 'COSI10A', 'PSYC10A', 'BIOL15B', 'MATH10A', 'BIOL18B', 'BIOL18A', 'CHEM29A', 'CHEM29B', 'CHEM25A', 'PSYC51A', 'CHEM25B', 'COSI12B', 'BUS6A', 'CHEM18A', 'ECON10A', 'MATH15A', 'ANTH1A']\n"
     ]
    }
   ],
   "source": [
    "all_courses = {str(course['subject'] + course['coursenum']): 0 for course in courses}\n",
    "for course in courses:\n",
    "    all_courses[str(course['subject'] + course['coursenum'])] = all_courses[str(course['subject'] + course['coursenum'])] + int(course['enrolled'])\n",
    "by_student_size = [course for course, enrolled in sorted(all_courses.items(), key=lambda item: -item[1])]\n",
    "top_twenty = by_student_size[:20]\n",
    "print(top_twenty)"
   ]
  },
  {
   "cell_type": "markdown",
   "metadata": {},
   "source": [
    "Katherine 5.i\n",
    "* number of faculty who have classes on Fridays"
   ]
  },
  {
   "cell_type": "code",
   "execution_count": 12,
   "metadata": {},
   "outputs": [
    {
     "data": {
      "text/plain": [
       "398"
      ]
     },
     "execution_count": 12,
     "metadata": {},
     "output_type": "execute_result"
    }
   ],
   "source": [
    "len({course['instructor'] for course in courses if (len(course['times']) == 1 and 'tu' in course['times'][0]['days'])})"
   ]
  },
  {
   "cell_type": "markdown",
   "metadata": {},
   "source": [
    "Jingqian 5.i\n",
    "* Find the top 10 courses most difficult to enroll (with most waiting students)"
   ]
  },
  {
   "cell_type": "code",
   "execution_count": 13,
   "metadata": {},
   "outputs": [
    {
     "data": {
      "text/plain": [
       "[{'limit': 25,\n",
       "  'times': [{'days': ['w', 'm'], 'end': 570, 'start': 480},\n",
       "   {'end': 1170, 'days': ['th'], 'start': 1080}],\n",
       "  'enrolled': 25,\n",
       "  'details': 'See Course Catalog for prerequisites.\\nInstruction for this course will be offered in a hybrid combination of in person and remote sessions, which may vary by course and over the duration of the semester. Some courses will have sessions at which in-person and remote students will participate at the same time, and others will arrange for some separate class meetings for in-person and remote students. Enrollment is open to students who will be on campus and students who will be studying remotely up to the enrollment limit.',\n",
       "  'type': 'section',\n",
       "  'status_text': 'Closed Consent Req.',\n",
       "  'section': '2',\n",
       "  'waiting': 27,\n",
       "  'instructor': ('Kene Nathan', 'Piasta', 'kpiasta@brandeis.edu'),\n",
       "  'coinstructors': (),\n",
       "  'code': ('BIOL', '51A'),\n",
       "  'subject': 'BIOL',\n",
       "  'coursenum': '51A',\n",
       "  'name': 'Biostatistics',\n",
       "  'independent_study': False,\n",
       "  'term': '1211',\n",
       "  'description': 'Prerequisites: BIOL 14a and BIOL 15b.\\n\\nAn introductory level biostatistics class providing an overview to statistical methods used in biological and medical research. Topics include descriptive statistics, elementary probability theory, commonly observed distributions, basic concepts of statistical inference, hypothesis testing, regression, as well as analysis of variance. Basic statistical analysis using the R software package will be introduced. Usually offered every semester.\\nKene Piasta'},\n",
       " {'limit': 45,\n",
       "  'times': [{'end': 1050, 'days': ['m', 'w'], 'start': 960}],\n",
       "  'enrolled': 45,\n",
       "  'details': 'See Course Catalog for prerequisites.\\nInstruction for this course will be offered remotely. Meeting times for this course are listed in the schedule of classes (in ET).',\n",
       "  'type': 'section',\n",
       "  'status_text': 'Closed',\n",
       "  'section': '1',\n",
       "  'waiting': 26,\n",
       "  'instructor': ('Robert W', 'Sekuler', 'sekuler@brandeis.edu'),\n",
       "  'coinstructors': (),\n",
       "  'code': ('NPSY', '22B'),\n",
       "  'subject': 'NPSY',\n",
       "  'coursenum': '22B',\n",
       "  'name': 'Introduction to Cognitive Neuroscience',\n",
       "  'independent_study': False,\n",
       "  'term': '1211',\n",
       "  'description': 'Prerequisite: PSYC 10a or MATH 10a or permission of the instructor.\\n\\nThis course explores how the human brain makes the human mind. It covers neural and behavioral dimensions of attention, memory and learning, perception, motor control, plasticity and planning. Experimental approaches and neuroimaging are emphasized. Usually offered every year.\\nRobert Sekuler'},\n",
       " {'limit': 20,\n",
       "  'times': [],\n",
       "  'enrolled': 27,\n",
       "  'details': 'See Course Catalog for Special Notes.\\nNoncredit.\\nInstruction for this course will be offered remotely. Meeting times for this course are listed in the schedule of classes (in ET).',\n",
       "  'type': 'section',\n",
       "  'status_text': 'Closed',\n",
       "  'section': '2',\n",
       "  'waiting': 23,\n",
       "  'instructor': ('Alesia Jane', 'Vaccari', 'vaccari@brandeis.edu'),\n",
       "  'coinstructors': (),\n",
       "  'code': ('HWL', '14'),\n",
       "  'subject': 'HWL',\n",
       "  'coursenum': '14',\n",
       "  'name': 'Yoga',\n",
       "  'independent_study': False,\n",
       "  'term': '1211',\n",
       "  'description': 'Noncredit. Counts as one-half activity course toward the physical education requirement. Fulfills one Mind and Body Balance module for the Health, Wellness and Life Skills requirement.\\n\\nHatha yoga is physical in nature and is based on proper body alignment and is distinctive in its use of props such as belts, walls, and blankets. Classes start with gentle stretches and work toward more challenging poses. Usually offered every semester.\\nAlesia Bennett and Kat Page'},\n",
       " {'limit': 25,\n",
       "  'times': [{'start': 960, 'end': 1050, 'days': ['th']}],\n",
       "  'enrolled': 21,\n",
       "  'details': 'See Course Catalog for Special Notes.\\nNoncredit.\\nInstruction for this course will be offered remotely. Meeting times for this course are listed in the schedule of classes (in ET).',\n",
       "  'type': 'section',\n",
       "  'status_text': 'Closed',\n",
       "  'section': '1',\n",
       "  'waiting': 23,\n",
       "  'instructor': ('Keone', 'Peterson', 'kpeterson@brandeis.edu'),\n",
       "  'coinstructors': (),\n",
       "  'code': ('HWL', '12'),\n",
       "  'subject': 'HWL',\n",
       "  'coursenum': '12',\n",
       "  'name': 'Money Management for Beginners',\n",
       "  'independent_study': False,\n",
       "  'term': '1211',\n",
       "  'description': 'Noncredit. Counts as one-half activity course toward the physical education requirement. Fulfills one Life Skills module for the Health, Wellness and Life Skills requirement.\\n\\nHelps inform students on how to effectively manage their finances, create a budget and manage debt. Additional topics will include how to maintain a budget, set up a bank account, establish a savings account, apply for credit cards and manage student loan accounts. Classroom discussions will consist of effective financial decision-making techniques to appropriately identify available resources and tools for building financial literacy. Usually offered every year.\\nKeone Peterson'},\n",
       " {'limit': 25,\n",
       "  'times': [{'end': 570, 'days': ['w', 'm'], 'start': 480},\n",
       "   {'start': 1080, 'days': ['th'], 'end': 1170}],\n",
       "  'enrolled': 25,\n",
       "  'details': 'See Course Catalog for prerequisites.\\nInstruction for this course will be offered in a hybrid combination of in person and remote sessions, which may vary by course and over the duration of the semester. Some courses will have sessions at which in-person and remote students will participate at the same time, and others will arrange for some separate class meetings for in-person and remote students. Enrollment is open to students who will be on campus and students who will be studying remotely up to the enrollment limit.',\n",
       "  'type': 'section',\n",
       "  'status_text': 'Closed Consent Req.',\n",
       "  'section': '1',\n",
       "  'waiting': 21,\n",
       "  'instructor': ('Kene Nathan', 'Piasta', 'kpiasta@brandeis.edu'),\n",
       "  'coinstructors': (),\n",
       "  'code': ('BIOL', '51A'),\n",
       "  'subject': 'BIOL',\n",
       "  'coursenum': '51A',\n",
       "  'name': 'Biostatistics',\n",
       "  'independent_study': False,\n",
       "  'term': '1211',\n",
       "  'description': 'Prerequisites: BIOL 14a and BIOL 15b.\\n\\nAn introductory level biostatistics class providing an overview to statistical methods used in biological and medical research. Topics include descriptive statistics, elementary probability theory, commonly observed distributions, basic concepts of statistical inference, hypothesis testing, regression, as well as analysis of variance. Basic statistical analysis using the R software package will be introduced. Usually offered every semester.\\nKene Piasta'},\n",
       " {'limit': 44,\n",
       "  'times': [{'start': 1080, 'end': 1170, 'days': ['tu', 'th']}],\n",
       "  'enrolled': 42,\n",
       "  'details': 'Instruction for this course will be offered remotely. Meeting times for this course are listed in the schedule of classes (in ET).',\n",
       "  'type': 'section',\n",
       "  'status_text': 'Closed',\n",
       "  'section': '1',\n",
       "  'waiting': 21,\n",
       "  'instructor': ('Gail', 'Peretti', 'gperetti@brandeis.edu'),\n",
       "  'coinstructors': (),\n",
       "  'code': ('MATH', '8A'),\n",
       "  'subject': 'MATH',\n",
       "  'coursenum': '8A',\n",
       "  'name': 'Introduction to Probability and Statistics',\n",
       "  'independent_study': False,\n",
       "  'term': '1211',\n",
       "  'description': 'Discrete probability spaces, random variables, expectation, variance, approximation by the normal curve, sample mean and variance, and confidence intervals. Does not require calculus; only high school algebra and graphing of functions. Usually offered every semester.\\nStaff'},\n",
       " {'limit': 25,\n",
       "  'times': [{'type': 'Lab', 'days': ['f'], 'end': 810, 'start': 720},\n",
       "   {'days': ['m', 'w'], 'type': 'Lecture', 'end': 810, 'start': 720}],\n",
       "  'enrolled': 31,\n",
       "  'details': 'See Course Catalog for Special Notes.\\nSee Course Catalog for prerequisites.\\nInstruction for this course will be offered remotely. Meeting times for this course are listed in the schedule of classes (in ET).',\n",
       "  'type': 'section',\n",
       "  'status_text': 'Closed',\n",
       "  'section': '2',\n",
       "  'waiting': 20,\n",
       "  'instructor': ('James R.', 'Morris', 'jmorris@brandeis.edu'),\n",
       "  'coinstructors': (),\n",
       "  'code': ('BIOL', '43B'),\n",
       "  'subject': 'BIOL',\n",
       "  'coursenum': '43B',\n",
       "  'name': 'Human Anatomy',\n",
       "  'independent_study': False,\n",
       "  'term': '1211',\n",
       "  'description': 'Prerequisite: BIOL 15b. Yields six semester-hour credits towards rate of work and graduation. \\n\\nFocuses broadly on vertebrate anatomy. The gross and microscopic morphology of each organ system is considered in depth. Comparative anatomy, embryology, and relationships between structure and function are explored. Lectures, laboratory dissections, and clinical cases are used to illustrate the structure and function of vertebrates, with an emphasis on humans. Usually offered every spring.\\nJames Morris'},\n",
       " {'limit': 25,\n",
       "  'times': [{'end': 810, 'days': ['m', 'w'], 'type': 'Lecture', 'start': 720},\n",
       "   {'start': 720, 'end': 810, 'days': ['f'], 'type': 'Lab'}],\n",
       "  'enrolled': 31,\n",
       "  'details': 'See Course Catalog for Special Notes.\\nSee Course Catalog for prerequisites.\\nInstruction for this course will be offered remotely. Meeting times for this course are listed in the schedule of classes (in ET).',\n",
       "  'type': 'section',\n",
       "  'status_text': 'Closed',\n",
       "  'section': '1',\n",
       "  'waiting': 18,\n",
       "  'instructor': ('James R.', 'Morris', 'jmorris@brandeis.edu'),\n",
       "  'coinstructors': (),\n",
       "  'code': ('BIOL', '43B'),\n",
       "  'subject': 'BIOL',\n",
       "  'coursenum': '43B',\n",
       "  'name': 'Human Anatomy',\n",
       "  'independent_study': False,\n",
       "  'term': '1211',\n",
       "  'description': 'Prerequisite: BIOL 15b. Yields six semester-hour credits towards rate of work and graduation. \\n\\nFocuses broadly on vertebrate anatomy. The gross and microscopic morphology of each organ system is considered in depth. Comparative anatomy, embryology, and relationships between structure and function are explored. Lectures, laboratory dissections, and clinical cases are used to illustrate the structure and function of vertebrates, with an emphasis on humans. Usually offered every spring.\\nJames Morris'},\n",
       " {'limit': 30,\n",
       "  'times': [{'start': 960, 'end': 1050, 'days': ['tu', 'th']}],\n",
       "  'enrolled': 28,\n",
       "  'details': 'Instruction for this course will be offered remotely. Meeting times for this course are listed in the schedule of classes (in ET).',\n",
       "  'type': 'section',\n",
       "  'status_text': 'Closed',\n",
       "  'section': '1',\n",
       "  'waiting': 18,\n",
       "  'instructor': ('Eli', 'Hirsch', 'hirsch@brandeis.edu'),\n",
       "  'coinstructors': (),\n",
       "  'code': ('PHIL', '23B'),\n",
       "  'subject': 'PHIL',\n",
       "  'coursenum': '23B',\n",
       "  'name': 'Biomedical Ethics',\n",
       "  'independent_study': False,\n",
       "  'term': '1211',\n",
       "  'description': 'An examination of ethical issues that arise in a biomedical context, such as the issues of abortion, euthanasia, eugenics, lying to patients, and the right to health care. The relevance of ethical theory to such issues will be considered. Usually offered every second year.\\nEli Hirsch'},\n",
       " {'limit': 25,\n",
       "  'times': [{'start': 720, 'type': 'Lecture', 'days': ['w', 'm'], 'end': 810},\n",
       "   {'start': 720, 'days': ['f'], 'type': 'Lab', 'end': 810}],\n",
       "  'enrolled': 30,\n",
       "  'details': 'See Course Catalog for Special Notes.\\nSee Course Catalog for prerequisites.\\nInstruction for this course will be offered remotely. Meeting times for this course are listed in the schedule of classes (in ET).',\n",
       "  'type': 'section',\n",
       "  'status_text': 'Closed',\n",
       "  'section': '3',\n",
       "  'waiting': 16,\n",
       "  'instructor': ('James R.', 'Morris', 'jmorris@brandeis.edu'),\n",
       "  'coinstructors': (),\n",
       "  'code': ('BIOL', '43B'),\n",
       "  'subject': 'BIOL',\n",
       "  'coursenum': '43B',\n",
       "  'name': 'Human Anatomy',\n",
       "  'independent_study': False,\n",
       "  'term': '1211',\n",
       "  'description': 'Prerequisite: BIOL 15b. Yields six semester-hour credits towards rate of work and graduation. \\n\\nFocuses broadly on vertebrate anatomy. The gross and microscopic morphology of each organ system is considered in depth. Comparative anatomy, embryology, and relationships between structure and function are explored. Lectures, laboratory dissections, and clinical cases are used to illustrate the structure and function of vertebrates, with an emphasis on humans. Usually offered every spring.\\nJames Morris'}]"
      ]
     },
     "execution_count": 13,
     "metadata": {},
     "output_type": "execute_result"
    }
   ],
   "source": [
    "course_with_waiting = [course for course in courses if course['waiting'] > 0]\n",
    "course_with_waiting_sorted = sorted(course_with_waiting, key = lambda x : -x['waiting'])\n",
    "course_with_waiting_sorted[:10]"
   ]
  },
  {
   "cell_type": "markdown",
   "metadata": {},
   "source": [
    "Weidong 5.i\n",
    "* List all courses which contain keyword 'java' in their description"
   ]
  },
  {
   "cell_type": "code",
   "execution_count": 14,
   "metadata": {},
   "outputs": [
    {
     "data": {
      "text/plain": [
       "[{'limit': 80,\n",
       "  'times': [{'start': 600, 'days': ['m', 'w'], 'end': 690},\n",
       "   {'start': 630, 'end': 720, 'type': 'Recitiation', 'days': ['f']}],\n",
       "  'enrolled': 43,\n",
       "  'details': 'See Course Catalog for prerequisites.\\nOpen to graduate students in the post-baccalaureate computer science program.\\nInstruction for this course will be offered remotely. Meeting times for this course are listed in the schedule of classes (in ET).',\n",
       "  'type': 'section',\n",
       "  'status_text': 'Open',\n",
       "  'section': '1',\n",
       "  'waiting': 0,\n",
       "  'instructor': ('Antonella', 'DiLillo', 'dilant@brandeis.edu'),\n",
       "  'coinstructors': (),\n",
       "  'code': ('COSI', '12B'),\n",
       "  'subject': 'COSI',\n",
       "  'coursenum': '12B',\n",
       "  'name': 'Advanced Programming Techniques in Java',\n",
       "  'independent_study': False,\n",
       "  'term': '1211',\n",
       "  'description': 'Prerequisite: COSI 10a or successful completion of the COSI online placement exam.\\n\\nStudies advanced programming concepts and techniques utilizing the Java programming language. The course covers software engineering concepts, object-oriented design, design patterns and professional best practices. This is a required foundation course that will prepare you for more advanced courses, new programming languages, and frameworks. Usually offered every year.\\nStaff'},\n",
       " {'limit': 80,\n",
       "  'times': [{'days': ['th', 'tu'], 'end': 690, 'start': 600},\n",
       "   {'end': 720, 'type': 'Recitation', 'days': ['f'], 'start': 630}],\n",
       "  'enrolled': 66,\n",
       "  'details': 'See Course Catalog for prerequisites.\\nOpen to graduate students in the post-baccalaureate computer science program.\\nInstruction for this course will be offered remotely. Meeting times for this course are listed in the schedule of classes (in ET).',\n",
       "  'type': 'section',\n",
       "  'status_text': 'Open',\n",
       "  'section': '2',\n",
       "  'waiting': 0,\n",
       "  'instructor': ('Iraklis', 'Tsekourakis', 'tsekourakis@brandeis.edu'),\n",
       "  'coinstructors': (),\n",
       "  'code': ('COSI', '12B'),\n",
       "  'subject': 'COSI',\n",
       "  'coursenum': '12B',\n",
       "  'name': 'Advanced Programming Techniques in Java',\n",
       "  'independent_study': False,\n",
       "  'term': '1211',\n",
       "  'description': 'Prerequisite: COSI 10a or successful completion of the COSI online placement exam.\\n\\nStudies advanced programming concepts and techniques utilizing the Java programming language. The course covers software engineering concepts, object-oriented design, design patterns and professional best practices. This is a required foundation course that will prepare you for more advanced courses, new programming languages, and frameworks. Usually offered every year.\\nStaff'},\n",
       " {'limit': 150,\n",
       "  'times': [{'days': ['m', 'w'], 'end': 690, 'start': 600},\n",
       "   {'start': 630, 'days': ['f'], 'type': 'obligatory recitation', 'end': 720}],\n",
       "  'enrolled': 96,\n",
       "  'details': 'Prerequisite: COSI 10a or successful completion of the COSI online placement exam.\\nInstruction for this course will be offered remotely. Meeting times for this course are listed in the schedule of classes (in ET).',\n",
       "  'type': 'section',\n",
       "  'status_text': 'Open',\n",
       "  'section': '1',\n",
       "  'waiting': 0,\n",
       "  'instructor': ('Antonella', 'DiLillo', 'dilant@brandeis.edu'),\n",
       "  'coinstructors': (),\n",
       "  'code': ('COSI', '12B'),\n",
       "  'subject': 'COSI',\n",
       "  'coursenum': '12B',\n",
       "  'name': 'Advanced Programming Techniques in Java',\n",
       "  'independent_study': False,\n",
       "  'term': '1203',\n",
       "  'description': 'Prerequisite: COSI 10a or successful completion of the COSI online placement exam.\\n\\nStudies advanced programming concepts and techniques utilizing the Java programming language. The course covers software engineering concepts, object-oriented design, design patterns and professional best practices. This is a required foundation course that will prepare you for more advanced courses, new programming languages, and frameworks. Usually offered every year.\\nStaff'},\n",
       " {'limit': 20,\n",
       "  'times': [],\n",
       "  'enrolled': 7,\n",
       "  'details': '',\n",
       "  'type': 'section',\n",
       "  'status_text': 'Open',\n",
       "  'section': '1DL',\n",
       "  'waiting': 0,\n",
       "  'instructor': ('Vitaly', 'Yurik', 'vyurik@brandeis.edu'),\n",
       "  'coinstructors': (),\n",
       "  'code': ('RSEG', '105'),\n",
       "  'subject': 'RSEG',\n",
       "  'coursenum': '105',\n",
       "  'name': 'Expert Software Development in Java',\n",
       "  'independent_study': False,\n",
       "  'term': '1203',\n",
       "  'description': 'This course examines Java technologies a software engineer can use to meet the challenges of software development for large-scale development projects. Large-scale systems typically support a complex system architecture, incorporate a significant amount of business logic, interoperate with a variety of back-end and partner systems, and access various data stores. This course will focus on the following major technologies that meet these challenges: Spring Framework and RESTful Web Services.'},\n",
       " {'limit': 20,\n",
       "  'times': [],\n",
       "  'enrolled': 6,\n",
       "  'details': '',\n",
       "  'type': 'section',\n",
       "  'status_text': 'Open',\n",
       "  'section': '1DL',\n",
       "  'waiting': 0,\n",
       "  'instructor': ('Vitaly', 'Yurik', 'vyurik@brandeis.edu'),\n",
       "  'coinstructors': (),\n",
       "  'code': ('RSEG', '102'),\n",
       "  'subject': 'RSEG',\n",
       "  'coursenum': '102',\n",
       "  'name': 'Software Development in Java',\n",
       "  'independent_study': False,\n",
       "  'term': '1211',\n",
       "  'description': 'This course explores advanced topics of Java programming language, including object- oriented programming concepts; exceptions; generic programming and annotations; collections; Java foundations classes (JFC); delegation event model; layout managers; swing components including panels, menus, toolbars, and text components; multi-threading; streams and input/output programming; networking; and Java database connectivity (JDBC).'},\n",
       " {'limit': 20,\n",
       "  'times': [],\n",
       "  'enrolled': 3,\n",
       "  'details': '',\n",
       "  'type': 'section',\n",
       "  'status_text': 'Open',\n",
       "  'section': '1DL',\n",
       "  'waiting': 0,\n",
       "  'instructor': ('Ken', 'Brumer', 'kenbrumer@brandeis.edu'),\n",
       "  'coinstructors': (),\n",
       "  'code': ('RSEG', '155'),\n",
       "  'subject': 'RSEG',\n",
       "  'coursenum': '155',\n",
       "  'name': 'Functional Programming with Java and Scala',\n",
       "  'independent_study': False,\n",
       "  'term': '1211',\n",
       "  'description': 'This course provides hands-on experience with functional programming—a style of programming that has seen increasing popularity due to its ability to work with complex concepts through highly adaptable models. Functional programming supports higher-level abstractions, customizable data structures, as well as concurrency and parallelism inherent in cloud computing and big data analytics. Students will use functional extensions of Java and a popular functional programming language Scala to apply functional programming approach to a variety of design, modeling and implementation challenges.'},\n",
       " {'limit': None,\n",
       "  'times': [{'start': 540, 'end': 660, 'days': ['m', 'tu', 'th', 'w']}],\n",
       "  'enrolled': 20,\n",
       "  'details': 'See Course Catalog for prerequisites.',\n",
       "  'type': 'section',\n",
       "  'status_text': 'Open',\n",
       "  'section': '1',\n",
       "  'waiting': 0,\n",
       "  'instructor': ('Michael', 'Golitsyn', 'golitsyn@brandeis.edu'),\n",
       "  'coinstructors': (),\n",
       "  'code': ('COSI', '12B'),\n",
       "  'subject': 'COSI',\n",
       "  'coursenum': '12B',\n",
       "  'name': 'Advanced Programming Techniques in Java',\n",
       "  'independent_study': False,\n",
       "  'term': '1212',\n",
       "  'description': 'Prerequisite: COSI 10a or successful completion of the COSI online placement exam.\\n\\nStudies advanced programming concepts and techniques utilizing the Java programming language. The course covers software engineering concepts, object-oriented design, design patterns and professional best practices. This is a required foundation course that will prepare you for more advanced courses, new programming languages, and frameworks. Usually offered every year.\\nStaff'}]"
      ]
     },
     "execution_count": 14,
     "metadata": {},
     "output_type": "execute_result"
    }
   ],
   "source": [
    "[c for c in courses if 'Java' in c['name']]"
   ]
  },
  {
   "cell_type": "markdown",
   "metadata": {},
   "source": [
    "Weidong 5.i\n",
    "* List all the COSI course have more than 10students and it's instructor's first name,and student number,sorted by student number"
   ]
  },
  {
   "cell_type": "code",
   "execution_count": 15,
   "metadata": {},
   "outputs": [
    {
     "name": "stdout",
     "output_type": "stream",
     "text": [
      "[('Introduction to 3-D Animation', 'Timothy J', 166), ('Introduction to Problem Solving in Python', 'Timothy J', 150), ('Data Structures and the Fundamentals of Computing', 'Antonella', 102), ('Discrete Structures', 'Mitch', 101), ('Data Structures and the Fundamentals of Computing', 'Antonella', 99), ('Advanced Programming Techniques in Java', 'Antonella', 96), ('Operating Systems', 'Iraklis', 94), ('Introduction to Problem Solving in Python', 'Jordan', 92), ('Introduction to the Theory of Computation', 'James A', 87), ('Fundamentals of Natural Language Processing I', 'Constantine', 84), ('Operating Systems', 'Iraklis', 78), ('Introduction to Problem Solving in Python', 'Iraklis', 67), ('Advanced Programming Techniques in Java', 'Iraklis', 66), ('Structure and Interpretation of Computer Programs', 'Harry', 61), ('Statistical Machine Learning', 'Pengyu', 56), ('Practical Machine Learning with Big Data', 'Pengyu', 48), ('Software Entrepreneurship', 'Ralph', 47), ('Computer-Supported Cooperation', 'Richard', 44), ('Advanced Programming Techniques in Java', 'Antonella', 43), ('Capstone Project for Software Engineering', 'Ralph', 39), ('Web Application Development', 'Timothy J', 37), ('Fundamentals of Natural Language Processing II', 'James', 33), ('Data Management for Data Science', 'Olga', 33), ('Information Retrieval', 'Peter G', 32), ('Fundamentals of Artificial Intelligence', 'Jordan', 30), ('Introduction to Problem Solving in Python', 'Timothy J', 25), ('Natural Language Annotation for Machine Learning', 'Nianwen', 21), ('Statistical Approaches to Natural Language Processing', 'Nianwen', 21), ('Advanced Programming Techniques in Java', 'Michael', 20), ('Mobile Application Development', 'Timothy J', 20), ('Introduction to Programming Language Theory', 'Harry', 18), ('Technology and the Learning Sciences', 'Richard', 17), ('Deep Learning', 'Chuxu', 17), ('Discourse and Dialog', 'James', 15), ('Information Extraction', 'Benjamin R.', 15), ('Topics in Computer Systems', 'Hongfu', 14), ('Natural Language Processing Systems', 'Constantine', 13), ('Multimedia Processing', 'James A', 13), ('Autonomous Robotics', 'Ralph', 13), (\"Master's Research Internship\", 'Iraklis', 11), ('Computer Vision', 'Hongfu', 10)]\n"
     ]
    }
   ],
   "source": [
    " list = {(c['name'],c['instructor'][0],c['enrolled']) for c in courses if c['subject']=='COSI' and c['enrolled']>=10}\n",
    " list_sort = sorted(list, key = lambda course : -course[2])\n",
    " print(list_sort)"
   ]
  },
  {
   "cell_type": "markdown",
   "metadata": {},
   "source": [
    "Weidong 5.i\n",
    "* top10 popular instructor in computer science department in terms of enrolled student number"
   ]
  },
  {
   "cell_type": "code",
   "execution_count": 16,
   "metadata": {},
   "outputs": [
    {
     "name": "stdout",
     "output_type": "stream",
     "text": [
      "[(('Timothy J', 'Hickey', 'tjhickey@brandeis.edu'), 411), (('Antonella', 'DiLillo', 'dilant@brandeis.edu'), 342), (('Iraklis', 'Tsekourakis', 'tsekourakis@brandeis.edu'), 316), (('Ralph', 'Salas', 'rpsalas@brandeis.edu'), 128), (('Jordan', 'Pollack', 'pollack@brandeis.edu'), 126), (('Pengyu', 'Hong', 'hongpeng@brandeis.edu'), 114), (('Constantine', 'Lignos', 'lignos@brandeis.edu'), 106), (('James A', 'Storer', 'storer@brandeis.edu'), 104), (('Mitch', 'Cherniack', 'mfc@brandeis.edu'), 101), (('Harry', 'Mairson', 'mairson@brandeis.edu'), 85)]\n"
     ]
    }
   ],
   "source": [
    "instructor = {c['instructor']:0 for c in courses if c['subject']=='COSI'}\n",
    "for c in courses:\n",
    "    if(c['subject']=='COSI'):\n",
    "        instructor[c['instructor']] = instructor[c['instructor']] + c['enrolled']\n",
    "\n",
    "instructor_sorted = sorted(instructor.items(),key = lambda x:-x[1])\n",
    "print(instructor_sorted[:10])"
   ]
  },
  {
   "cell_type": "markdown",
   "metadata": {},
   "source": [
    "### 5e.\tdo the same as in (d) but print the top 10 subjects in terms of number of courses offered - Jian He"
   ]
  },
  {
   "cell_type": "code",
   "execution_count": 17,
   "metadata": {},
   "outputs": [
    {
     "name": "stdout",
     "output_type": "stream",
     "text": [
      "('BIOL', 612)\n",
      "('HIST', 497)\n",
      "('PSYC', 416)\n",
      "('NEUR', 402)\n",
      "('BCHM', 295)\n",
      "('PHYS', 287)\n",
      "('HS', 273)\n",
      "('COSI', 271)\n",
      "('MUS', 265)\n",
      "('ENG', 264)\n"
     ]
    }
   ],
   "source": [
    "list = {}\n",
    "for c in courses:\n",
    "    if c[\"subject\"] in list:\n",
    "         list[c[\"subject\"]] += 1\n",
    "    else:\n",
    "        list[c[\"subject\"]] = 0\n",
    "    \n",
    "list = sorted(list.items(), key = lambda x: x[1])\n",
    "for s in reversed(list[-10:]):\n",
    "    print(s)\n"
   ]
  },
  {
   "cell_type": "markdown",
   "metadata": {},
   "source": [
    "### 5f.\tdo the same as in (d) but print the top 10 subjects in terms of number of faculty teaching courses in that subject - Jian He"
   ]
  },
  {
   "cell_type": "code",
   "execution_count": 18,
   "metadata": {},
   "outputs": [
    {
     "name": "stdout",
     "output_type": "stream",
     "text": [
      "HS 84\n",
      "BIOL 67\n",
      "ECON 51\n",
      "BCHM 49\n",
      "HIST 47\n",
      "BCBP 46\n",
      "BUS 46\n",
      "HWL 42\n",
      "NEJS 37\n",
      "MATH 37\n"
     ]
    }
   ],
   "source": [
    "list = {}\n",
    "for c in courses:\n",
    "    if c[\"subject\"] in list:\n",
    "         list[c[\"subject\"]].add(c[\"instructor\"][2])\n",
    "    else:\n",
    "        list[c[\"subject\"]] = set()\n",
    "    \n",
    "list = sorted(list.items(), key = lambda x: len(x[1]))\n",
    "for s in reversed(list[-10:]):\n",
    "    print(s[0], len(s[1]))"
   ]
  },
  {
   "cell_type": "markdown",
   "metadata": {},
   "source": [
    "### 5i.\tHow many independent study courses has Brandeis offered? - Jian He"
   ]
  },
  {
   "cell_type": "code",
   "execution_count": 19,
   "metadata": {},
   "outputs": [
    {
     "name": "stdout",
     "output_type": "stream",
     "text": [
      "165\n"
     ]
    }
   ],
   "source": [
    "count = 0\n",
    "list = set()\n",
    "for c in courses:\n",
    "    if c[\"independent_study\"]:\n",
    "        count += 1\n",
    "        list.add(c[\"name\"])\n",
    "\n",
    "print(len(list))"
   ]
  },
  {
   "cell_type": "code",
   "execution_count": null,
   "metadata": {},
   "outputs": [],
   "source": []
  }
 ],
 "metadata": {
  "kernelspec": {
   "display_name": "Python 3 (ipykernel)",
   "language": "python",
   "name": "python3"
  },
  "language_info": {
   "codemirror_mode": {
    "name": "ipython",
    "version": 3
   },
   "file_extension": ".py",
   "mimetype": "text/x-python",
   "name": "python",
   "nbconvert_exporter": "python",
   "pygments_lexer": "ipython3",
   "version": "3.10.1"
  }
 },
 "nbformat": 4,
 "nbformat_minor": 4
}
