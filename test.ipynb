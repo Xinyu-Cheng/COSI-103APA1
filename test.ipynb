{
 "cells": [
  {
   "cell_type": "code",
   "execution_count": 1,
   "id": "13fa4f8a-7f92-4467-b4ae-277fcc4cc551",
   "metadata": {},
   "outputs": [
    {
     "name": "stdout",
     "output_type": "stream",
     "text": [
      "getting archived regdata from file\n"
     ]
    }
   ],
   "source": [
    "import course_search"
   ]
  },
  {
   "cell_type": "code",
   "execution_count": 2,
   "id": "bc4a446b-c74e-4ca3-a72c-e30d8186257a",
   "metadata": {},
   "outputs": [
    {
     "name": "stdin",
     "output_type": "stream",
     "text": [
      ">> (h for help)  c\n",
      "enter a coursenum: 131\n"
     ]
    },
    {
     "name": "stdout",
     "output_type": "stream",
     "text": [
      "courses has 14 elements\n",
      "\n",
      "here are the first 10\n",
      "BIOL 131B 1 Introduction to Genomics 1211 ('Sebastien', 'Kadener', 'skadener@brandeis.edu')\n",
      "MATH 131B 1 Algebra II 1211 ('Kiyoshi', 'Igusa', 'igusa@brandeis.edu')\n",
      "COSI 131A 1 Operating Systems 1211 ('Iraklis', 'Tsekourakis', 'tsekourakis@brandeis.edu')\n",
      "ANTH 131B 1 Latin America in Ethnographic Perspective 1211 ('Isar', 'Godreau', 'isargodreau@brandeis.edu')\n",
      "RECS 131A 1 The Twentieth-Century Russian Novel 1211 ('David', 'Powelstock', 'pstock@brandeis.edu')\n",
      "AAAS/HIS 131A 1 African Americans and Health 1211 ('Wangui', 'Muigai', 'wmuigai@brandeis.edu')\n",
      "MATH 131A 1 Algebra I 1203 ('Olivier', 'Bernardi', 'bernardi@brandeis.edu')\n",
      "COSI 131A 1 Operating Systems 1203 ('Iraklis', 'Tsekourakis', 'tsekourakis@brandeis.edu')\n",
      "PHIL 131A 1 Philosophy of Mind 1203 ('Umrao', 'Sethi', 'sethi@brandeis.edu')\n",
      "AMST 131B 1 News on Screen 1203 ('Thomas', 'Doherty', 'doherty@brandeis.edu')\n",
      "\n",
      "\n",
      "\n",
      "\n"
     ]
    },
    {
     "name": "stdin",
     "output_type": "stream",
     "text": [
      ">> (h for help)  r\n"
     ]
    },
    {
     "name": "stdout",
     "output_type": "stream",
     "text": [
      "getting archived regdata from file\n"
     ]
    },
    {
     "name": "stdin",
     "output_type": "stream",
     "text": [
      ">> (h for help)  l\n",
      "enter a limit: 50\n"
     ]
    },
    {
     "name": "stdout",
     "output_type": "stream",
     "text": [
      "courses has 1399 elements\n",
      "\n",
      "here are the first 10\n",
      "BUS 222F 1 Global Dexterity 1203 ('Andrew L', 'Molinsky', 'molinsky@brandeis.edu')\n",
      "BUS 240F 2 Information Visualization 1203 ('Arnold', 'Kamis', 'arnoldkamis@brandeis.edu')\n",
      "BUS 258F 1 Sales and Sales Management 1203 ('Robert', 'Malenfant', 'robmalenfant@brandeis.edu')\n",
      "FIN 217F 1 Corporate Financial Modeling 1203 ('Hamza', 'Abdurezak', 'abdurez@brandeis.edu')\n",
      "FIN 236F 1 Technical Analysis 1203 ('John', 'Kolovos', 'jkolovos@brandeis.edu')\n",
      "BUS 232F 1 Digital Fabrication with Robotics 1203 ('Ian M.', 'Roy', 'ianroy@brandeis.edu')\n",
      "BUS 211F 2 Analyzing Big Data I 1203 ('Javier', 'Vidal-Berastain', 'xvidalberastain@brandeis.edu')\n",
      "FIN 225F 1 Real Estate Finance 1203 ('Anna', 'Scherbina', 'ascherbina@brandeis.edu')\n",
      "FIN 231F 1 Private Equity 1203 ('K. Tibor', 'Toth', 'ttoth@brandeis.edu')\n",
      "HS 242F 1 Development Aid 1203 ('Laurence', 'Simon', 'simon@brandeis.edu')\n",
      "\n",
      "\n",
      "\n",
      "\n"
     ]
    },
    {
     "name": "stdin",
     "output_type": "stream",
     "text": [
      ">> (h for help)  quit\n"
     ]
    }
   ],
   "source": [
    "course_search.topmenu()"
   ]
  }
 ],
 "metadata": {
  "kernelspec": {
   "display_name": "Python 3 (ipykernel)",
   "language": "python",
   "name": "python3"
  },
  "language_info": {
   "codemirror_mode": {
    "name": "ipython",
    "version": 3
   },
   "file_extension": ".py",
   "mimetype": "text/x-python",
   "name": "python",
   "nbconvert_exporter": "python",
   "pygments_lexer": "ipython3",
   "version": "3.9.5"
  }
 },
 "nbformat": 4,
 "nbformat_minor": 5
}
